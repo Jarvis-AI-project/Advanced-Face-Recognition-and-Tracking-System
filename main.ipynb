{
 "cells": [
  {
   "attachments": {},
   "cell_type": "markdown",
   "metadata": {},
   "source": [
    "## Imports"
   ]
  },
  {
   "cell_type": "code",
   "execution_count": 14,
   "metadata": {},
   "outputs": [],
   "source": [
    "import tensorflow as tf\n",
    "from keras import datasets, layers, models\n",
    "from keras.models import Sequential\n",
    "from keras.layers import Dense, Dropout, Flatten, Conv2D, MaxPooling2D\n",
    "from keras.preprocessing.image import ImageDataGenerator\n",
    "from sklearn.model_selection import train_test_split\n",
    "import numpy as np\n",
    "import matplotlib.pyplot as plt\n",
    "import os\n",
    "from time import sleep\n",
    "import cv2\n",
    "import pandas as pd"
   ]
  },
  {
   "attachments": {},
   "cell_type": "markdown",
   "metadata": {},
   "source": [
    "## Making the dataset"
   ]
  },
  {
   "cell_type": "code",
   "execution_count": 3,
   "metadata": {},
   "outputs": [],
   "source": [
    "# Capture video from webcam and make dataset\n",
    "class MakeDataset():\n",
    "    def __init__(self):\n",
    "        import cv2\n",
    "        import os\n",
    "        \n",
    "        self.video = cv2.VideoCapture(0)\n",
    "        self.count = 0\n",
    "        self.person_name = input(\"Enter person name: \")\n",
    "        # self.num_images = int(input(\"Enter number of images: \"))\n",
    "        self.path = \"data/\" + self.person_name\n",
    "        if not os.path.exists(self.path):\n",
    "            os.makedirs(self.path)\n",
    "    def  make(self):\n",
    "        while True:\n",
    "            _, frame = self.video.read()\n",
    "            cv2.imshow(\"frame\", frame)\n",
    "            if cv2.waitKey(1) & 0xFF == ord('s'):\n",
    "                self.count += 1\n",
    "                cv2.imwrite(self.path + \"/\" + self.person_name + '_' + str(self.count) + \".jpg\", frame)\n",
    "                print(f'Image saved: {self.count}', end='\\r')\n",
    "            if cv2.waitKey(1) & 0xFF == ord('q'):\n",
    "                break\n",
    "            if self.count == 50:\n",
    "                break\n",
    "    def __final__(self):\n",
    "        self.video.release()\n",
    "        cv2.destroyAllWindows()\n",
    "\n",
    "# MakeDataset().make()"
   ]
  },
  {
   "attachments": {},
   "cell_type": "markdown",
   "metadata": {},
   "source": [
    "## Loading the data"
   ]
  },
  {
   "attachments": {},
   "cell_type": "markdown",
   "metadata": {},
   "source": [
    "### 1. Listing images in the dataset directory"
   ]
  },
  {
   "cell_type": "code",
   "execution_count": 4,
   "metadata": {},
   "outputs": [],
   "source": [
    "# # Devasheesh's faces\n",
    "# deva_faces = './data/devasheesh/'\n",
    "# deva_faces = os.listdir(deva_faces)\n",
    "# deva_faces = [deva_faces[i] for i in range(len(deva_faces)) if deva_faces[i].endswith('.jpg')]\n",
    "\n",
    "# # Swarnim's faces\n",
    "# swar_faces = './data/swarnim/'\n",
    "# swar_faces = os.listdir(swar_faces)\n",
    "# swar_faces = [swar_faces[i] for i in range(len(swar_faces)) if swar_faces[i].endswith('.jpg')]\n",
    "\n",
    "# # Negative faces\n",
    "# neg_faces = './data/negative-faces/'\n",
    "# neg_faces = os.listdir(neg_faces)\n",
    "# neg_faces = [neg_faces[i] for i in range(len(neg_faces)) if neg_faces[i].endswith('.jpg')]\n",
    "\n",
    "# Making a function to list all the images in a folder\n",
    "def list_images(path):\n",
    "    image_files = []\n",
    "    for root, _, files in os.walk(path):\n",
    "        for file in files:\n",
    "            if file.lower().endswith(('.jpg', '.jpeg', '.png')):\n",
    "                image_files.append(os.path.join(root, file))\n",
    "    image_files.sort()\n",
    "    return image_files\n",
    "\n",
    "deva_faces = list_images('./data/Devasheesh/')\n",
    "swar_faces = list_images('./data/Swarnim/')\n",
    "neg_faces = list_images('./data/negative-faces/')"
   ]
  },
  {
   "attachments": {},
   "cell_type": "markdown",
   "metadata": {},
   "source": [
    "### 2. Making Train and Test Objects"
   ]
  },
  {
   "cell_type": "code",
   "execution_count": 5,
   "metadata": {},
   "outputs": [],
   "source": [
    "# function to extract the face from the image\n",
    "# using the Haar Cascade Classifier\n",
    "def extract_frontal_face_harr(image_ndarray, grayscale=True, size=(150, 150)):\n",
    "    # Load the cascade\n",
    "    face_cascade = cv2.CascadeClassifier('./haarcascade_frontalface_default.xml')\n",
    "    # Convert into grayscale\n",
    "    if grayscale:\n",
    "        image_gray = cv2.cvtColor(image_ndarray, cv2.COLOR_BGR2GRAY)\n",
    "    else:\n",
    "        image_gray = image_ndarray\n",
    "    # Detect faces\n",
    "    faces_cord = face_cascade.detectMultiScale(image_gray, 1.3, 5)\n",
    "    # Return the face or None if not found\n",
    "    if len(faces_cord) == 0:\n",
    "        return None, None\n",
    "    # Extract the face\n",
    "    (x, y, w, h) = faces_cord[0]\n",
    "    # Resize the image to 150x150\n",
    "    image_gray_resized = cv2.resize(image_gray[y:y+w, x:x+h], size)\n",
    "    # Return only the face part of the image\n",
    "    return image_gray_resized, faces_cord\n",
    "\n",
    "# using DNN\n",
    "modelFile = \"dnn/res10_300x300_ssd_iter_140000.caffemodel\"\n",
    "configFile = \"dnn/deploy.prototxt.txt\"\n",
    "net = cv2.dnn.readNetFromCaffe(configFile, modelFile)\n",
    "\n",
    "def extract_frontal_face(image_ndarray, grayscale=False, size=(150, 150)):\n",
    "    # resize the image to 300x300 for the DNN model\n",
    "    h, w = 300, 300\n",
    "    image_ndarray = cv2.resize(image_ndarray, (h, w))\n",
    "    # Convert into blob\n",
    "    blob = cv2.dnn.blobFromImage(image_ndarray, 1.0, (h, w), (104.0, 177.0, 123.0))\n",
    "    # Convert into grayscale\n",
    "    if grayscale:\n",
    "        image_ndarray = cv2.cvtColor(image_ndarray, cv2.COLOR_BGR2GRAY)\n",
    "    # Detect faces\n",
    "    net.setInput(blob)\n",
    "    detections = net.forward()\n",
    "\n",
    "    for i in range(detections.shape[2]):\n",
    "        confidence = detections[0, 0, i, 2]\n",
    "        if confidence > 0.5:\n",
    "            # Get the coordinates of the bounding box\n",
    "            box = detections[0, 0, i, 3:7] * np.array([w, h, w, h])\n",
    "            (x, y, x2, y2) = box.astype(\"int\")\n",
    "\n",
    "            # Extract the face ROI (region of interest) from the image\n",
    "            face = image_ndarray[y:y2, x:x2]\n",
    "            return cv2.resize(face, size), confidence\n",
    "        else:\n",
    "            return None, None\n"
   ]
  },
  {
   "cell_type": "code",
   "execution_count": 7,
   "metadata": {},
   "outputs": [
    {
     "name": "stdout",
     "output_type": "stream",
     "text": [
      "Total images:  175\n",
      "Count:  1  | Image address:  ./data/negative-faces/n000001/0001_01.jpg  | Label:  Unknown  | Image shape:  (227, 199, 3)\n",
      "Count:  2  | Image address:  ./data/negative-faces/n000001/0002_01.jpg  | Label:  Unknown  | Image shape:  (511, 477, 3)\n",
      "Count:  3  | Image address:  ./data/negative-faces/n000001/0003_01.jpg  | Label:  Unknown  | Image shape:  (190, 191, 3)\n",
      "Count:  4  | Image address:  ./data/negative-faces/n000001/0004_01.jpg  | Label:  Unknown  | Image shape:  (600, 674, 3)\n",
      "Count:  5  | Image address:  ./data/negative-faces/n000001/0005_01.jpg  | Label:  Unknown  | Image shape:  (199, 174, 3)\n",
      "Count:  6  | Image address:  ./data/negative-faces/n000001/0006_01.jpg  | Label:  Unknown  | Image shape:  (878, 878, 3)\n",
      "Count:  7  | Image address:  ./data/negative-faces/n000001/0007_01.jpg  | Label:  Unknown  | Image shape:  (532, 549, 3)\n",
      "Count:  8  | Image address:  ./data/negative-faces/n000001/0008_01.jpg  | Label:  Unknown  | Image shape:  (295, 310, 3)\n",
      "Count:  9  | Image address:  ./data/negative-faces/n000001/0009_01.jpg  | Label:  Unknown  | Image shape:  (571, 532, 3)\n",
      "Count:  10  | Image address:  ./data/negative-faces/n000001/0010_01.jpg  | Label:  Unknown  | Image shape:  (270, 375, 3)\n",
      "Count:  11  | Image address:  ./data/negative-faces/n000001/0011_01.jpg  | Label:  Unknown  | Image shape:  (560, 608, 3)\n",
      "Count:  12  | Image address:  ./data/negative-faces/n000001/0012_01.jpg  | Label:  Unknown  | Image shape:  (319, 279, 3)\n",
      "Count:  13  | Image address:  ./data/negative-faces/n000001/0013_01.jpg  | Label:  Unknown  | Image shape:  (419, 301, 3)\n",
      "Count:  14  | Image address:  ./data/negative-faces/n000001/0014_01.jpg  | Label:  Unknown  | Image shape:  (274, 263, 3)\n",
      "Count:  15  | Image address:  ./data/negative-faces/n000001/0015_01.jpg  | Label:  Unknown  | Image shape:  (345, 356, 3)\n",
      "Count:  16  | Image address:  ./data/negative-faces/n000001/0016_01.jpg  | Label:  Unknown  | Image shape:  (279, 320, 3)\n",
      "Count:  17  | Image address:  ./data/negative-faces/n000001/0017_01.jpg  | Label:  Unknown  | Image shape:  (573, 532, 3)\n",
      "Count:  18  | Image address:  ./data/negative-faces/n000001/0018_01.jpg  | Label:  Unknown  | Image shape:  (283, 272, 3)\n",
      "Count:  19  | Image address:  ./data/negative-faces/n000001/0019_01.jpg  | Label:  Unknown  | Image shape:  (517, 515, 3)\n",
      "Count:  20  | Image address:  ./data/negative-faces/n000001/0020_01.jpg  | Label:  Unknown  | Image shape:  (292, 283, 3)\n",
      "Count:  21  | Image address:  ./data/negative-faces/n000001/0021_01.jpg  | Label:  Unknown  | Image shape:  (283, 265, 3)\n",
      "Count:  22  | Image address:  ./data/negative-faces/n000001/0022_01.jpg  | Label:  Unknown  | Image shape:  (885, 701, 3)\n",
      "Count:  23  | Image address:  ./data/negative-faces/n000001/0023_01.jpg  | Label:  Unknown  | Image shape:  (311, 351, 3)\n",
      "Count:  24  | Image address:  ./data/negative-faces/n000001/0024_01.jpg  | Label:  Unknown  | Image shape:  (221, 221, 3)\n",
      "Count:  25  | Image address:  ./data/negative-faces/n000001/0025_01.jpg  | Label:  Unknown  | Image shape:  (318, 301, 3)\n",
      "Count:  26  | Image address:  ./data/negative-faces/n000001/0026_02.jpg  | Label:  Unknown  | Image shape:  (150, 132, 3)\n",
      "Count:  27  | Image address:  ./data/negative-faces/n000001/0027_03.jpg  | Label:  Unknown  | Image shape:  (192, 167, 3)\n",
      "Count:  28  | Image address:  ./data/negative-faces/n000001/0028_01.jpg  | Label:  Unknown  | Image shape:  (282, 276, 3)\n",
      "Count:  29  | Image address:  ./data/negative-faces/n000001/0029_01.jpg  | Label:  Unknown  | Image shape:  (576, 758, 3)\n",
      "Count:  30  | Image address:  ./data/negative-faces/n000001/0030_01.jpg  | Label:  Unknown  | Image shape:  (297, 263, 3)\n",
      "Count:  31  | Image address:  ./data/negative-faces/n000001/0031_01.jpg  | Label:  Unknown  | Image shape:  (147, 139, 3)\n",
      "Count:  32  | Image address:  ./data/negative-faces/n000001/0032_01.jpg  | Label:  Unknown  | Image shape:  (187, 178, 3)\n",
      "Count:  33  | Image address:  ./data/negative-faces/n000001/0033_01.jpg  | Label:  Unknown  | Image shape:  (199, 198, 3)\n",
      "Count:  34  | Image address:  ./data/negative-faces/n000029/0001_01.jpg  | Label:  Unknown  | Image shape:  (400, 355, 3)\n",
      "Count:  35  | Image address:  ./data/negative-faces/n000029/0002_01.jpg  | Label:  Unknown  | Image shape:  (570, 563, 3)\n",
      "Count:  36  | Image address:  ./data/negative-faces/n000029/0003_01.jpg  | Label:  Unknown  | Image shape:  (331, 290, 3)\n",
      "Count:  37  | Image address:  ./data/negative-faces/n000029/0004_01.jpg  | Label:  Unknown  | Image shape:  (360, 421, 3)\n",
      "Count:  38  | Image address:  ./data/negative-faces/n000029/0005_01.jpg  | Label:  Unknown  | Image shape:  (95, 84, 3)\n",
      "Count:  1  | Image address:  ./data/Devasheesh/Devasheesh_01.jpg  | Label:  Devasheesh  | Image shape:  (480, 640, 3)\n",
      "Count:  2  | Image address:  ./data/Devasheesh/Devasheesh_02.jpg  | Label:  Devasheesh  | Image shape:  (480, 640, 3)\n",
      "Count:  3  | Image address:  ./data/Devasheesh/Devasheesh_03.jpg  | Label:  Devasheesh  | Image shape:  (480, 640, 3)\n",
      "Count:  4  | Image address:  ./data/Devasheesh/Devasheesh_04.jpg  | Label:  Devasheesh  | Image shape:  (480, 640, 3)\n",
      "Count:  5  | Image address:  ./data/Devasheesh/Devasheesh_05.jpg  | Label:  Devasheesh  | Image shape:  (480, 640, 3)\n",
      "Count:  6  | Image address:  ./data/Devasheesh/Devasheesh_06.jpg  | Label:  Devasheesh  | Image shape:  (480, 640, 3)\n",
      "Count:  7  | Image address:  ./data/Devasheesh/Devasheesh_07.jpg  | Label:  Devasheesh  | Image shape:  (480, 640, 3)\n",
      "Count:  8  | Image address:  ./data/Devasheesh/Devasheesh_08.jpg  | Label:  Devasheesh  | Image shape:  (480, 640, 3)\n",
      "Count:  9  | Image address:  ./data/Devasheesh/Devasheesh_09.jpg  | Label:  Devasheesh  | Image shape:  (480, 640, 3)\n",
      "Count:  10  | Image address:  ./data/Devasheesh/Devasheesh_10.jpg  | Label:  Devasheesh  | Image shape:  (480, 640, 3)\n",
      "Count:  11  | Image address:  ./data/Devasheesh/Devasheesh_11.jpg  | Label:  Devasheesh  | Image shape:  (480, 640, 3)\n",
      "Count:  12  | Image address:  ./data/Devasheesh/Devasheesh_12.jpg  | Label:  Devasheesh  | Image shape:  (480, 640, 3)\n",
      "Count:  13  | Image address:  ./data/Devasheesh/Devasheesh_13.jpg  | Label:  Devasheesh  | Image shape:  (480, 640, 3)\n",
      "Count:  14  | Image address:  ./data/Devasheesh/Devasheesh_14.jpg  | Label:  Devasheesh  | Image shape:  (480, 640, 3)\n",
      "Count:  15  | Image address:  ./data/Devasheesh/Devasheesh_15.jpg  | Label:  Devasheesh  | Image shape:  (480, 640, 3)\n",
      "Count:  16  | Image address:  ./data/Devasheesh/Devasheesh_16.jpg  | Label:  Devasheesh  | Image shape:  (480, 640, 3)\n",
      "Count:  17  | Image address:  ./data/Devasheesh/Devasheesh_17.jpg  | Label:  Devasheesh  | Image shape:  (480, 640, 3)\n",
      "Count:  18  | Image address:  ./data/Devasheesh/Devasheesh_18.jpg  | Label:  Devasheesh  | Image shape:  (480, 640, 3)\n",
      "Count:  19  | Image address:  ./data/Devasheesh/Devasheesh_19.jpg  | Label:  Devasheesh  | Image shape:  (480, 640, 3)\n",
      "Count:  20  | Image address:  ./data/Devasheesh/Devasheesh_20.jpg  | Label:  Devasheesh  | Image shape:  (480, 640, 3)\n",
      "Count:  21  | Image address:  ./data/Devasheesh/Devasheesh_21.jpg  | Label:  Devasheesh  | Image shape:  (480, 640, 3)\n",
      "Count:  22  | Image address:  ./data/Devasheesh/Devasheesh_22.jpg  | Label:  Devasheesh  | Image shape:  (480, 640, 3)\n",
      "Count:  23  | Image address:  ./data/Devasheesh/Devasheesh_23.jpg  | Label:  Devasheesh  | Image shape:  (480, 640, 3)\n",
      "Count:  24  | Image address:  ./data/Devasheesh/Devasheesh_24.jpg  | Label:  Devasheesh  | Image shape:  (480, 640, 3)\n",
      "Count:  25  | Image address:  ./data/Devasheesh/Devasheesh_25.jpg  | Label:  Devasheesh  | Image shape:  (480, 640, 3)\n",
      "Count:  26  | Image address:  ./data/Devasheesh/Devasheesh_26.jpg  | Label:  Devasheesh  | Image shape:  (480, 640, 3)\n",
      "Count:  27  | Image address:  ./data/Devasheesh/Devasheesh_27.jpg  | Label:  Devasheesh  | Image shape:  (480, 640, 3)\n",
      "Count:  28  | Image address:  ./data/Devasheesh/Devasheesh_28.jpg  | Label:  Devasheesh  | Image shape:  (480, 640, 3)\n",
      "Count:  29  | Image address:  ./data/Devasheesh/Devasheesh_29.jpg  | Label:  Devasheesh  | Image shape:  (480, 640, 3)\n",
      "Count:  30  | Image address:  ./data/Devasheesh/Devasheesh_30.jpg  | Label:  Devasheesh  | Image shape:  (480, 640, 3)\n",
      "Count:  31  | Image address:  ./data/Devasheesh/Devasheesh_31.jpg  | Label:  Devasheesh  | Image shape:  (480, 640, 3)\n",
      "Count:  32  | Image address:  ./data/Devasheesh/Devasheesh_32.jpg  | Label:  Devasheesh  | Image shape:  (480, 640, 3)\n",
      "Count:  33  | Image address:  ./data/Devasheesh/Devasheesh_33.jpg  | Label:  Devasheesh  | Image shape:  (480, 640, 3)\n",
      "Count:  34  | Image address:  ./data/Devasheesh/Devasheesh_34.jpg  | Label:  Devasheesh  | Image shape:  (480, 640, 3)\n",
      "Count:  35  | Image address:  ./data/Devasheesh/Devasheesh_35.jpg  | Label:  Devasheesh  | Image shape:  (480, 640, 3)\n",
      "Count:  36  | Image address:  ./data/Devasheesh/Devasheesh_36.jpg  | Label:  Devasheesh  | Image shape:  (480, 640, 3)\n",
      "Count:  37  | Image address:  ./data/Devasheesh/Devasheesh_37.jpg  | Label:  Devasheesh  | Image shape:  (480, 640, 3)\n",
      "Count:  38  | Image address:  ./data/Devasheesh/Devasheesh_38.jpg  | Label:  Devasheesh  | Image shape:  (480, 640, 3)\n",
      "Count:  39  | Image address:  ./data/Devasheesh/Devasheesh_39.jpg  | Label:  Devasheesh  | Image shape:  (480, 640, 3)\n",
      "Count:  40  | Image address:  ./data/Devasheesh/Devasheesh_40.jpg  | Label:  Devasheesh  | Image shape:  (480, 640, 3)\n",
      "Count:  41  | Image address:  ./data/Devasheesh/Devasheesh_41.jpg  | Label:  Devasheesh  | Image shape:  (480, 640, 3)\n",
      "Count:  42  | Image address:  ./data/Devasheesh/Devasheesh_42.jpg  | Label:  Devasheesh  | Image shape:  (480, 640, 3)\n",
      "Count:  43  | Image address:  ./data/Devasheesh/Devasheesh_43.jpg  | Label:  Devasheesh  | Image shape:  (480, 640, 3)\n",
      "Count:  44  | Image address:  ./data/Devasheesh/Devasheesh_44.jpg  | Label:  Devasheesh  | Image shape:  (480, 640, 3)\n",
      "Count:  45  | Image address:  ./data/Devasheesh/Devasheesh_45.jpg  | Label:  Devasheesh  | Image shape:  (480, 640, 3)\n",
      "Count:  46  | Image address:  ./data/Devasheesh/Devasheesh_46.jpg  | Label:  Devasheesh  | Image shape:  (480, 640, 3)\n",
      "Count:  47  | Image address:  ./data/Devasheesh/Devasheesh_48.jpg  | Label:  Devasheesh  | Image shape:  (480, 640, 3)\n",
      "Count:  48  | Image address:  ./data/Devasheesh/Devasheesh_49.jpg  | Label:  Devasheesh  | Image shape:  (480, 640, 3)\n",
      "Count:  49  | Image address:  ./data/Devasheesh/Devasheesh_50.jpg  | Label:  Devasheesh  | Image shape:  (480, 640, 3)\n",
      "Count:  1  | Image address:  ./data/Swarnim/Swarnim_1.jpg  | Label:  Swarnim  | Image shape:  (480, 640, 3)\n",
      "Count:  2  | Image address:  ./data/Swarnim/Swarnim_10.jpg  | Label:  Swarnim  | Image shape:  (480, 640, 3)\n",
      "Count:  3  | Image address:  ./data/Swarnim/Swarnim_11.jpg  | Label:  Swarnim  | Image shape:  (480, 640, 3)\n",
      "Count:  4  | Image address:  ./data/Swarnim/Swarnim_12.jpg  | Label:  Swarnim  | Image shape:  (480, 640, 3)\n",
      "Count:  5  | Image address:  ./data/Swarnim/Swarnim_13.jpg  | Label:  Swarnim  | Image shape:  (480, 640, 3)\n",
      "Count:  6  | Image address:  ./data/Swarnim/Swarnim_14.jpg  | Label:  Swarnim  | Image shape:  (480, 640, 3)\n",
      "Count:  7  | Image address:  ./data/Swarnim/Swarnim_15.jpg  | Label:  Swarnim  | Image shape:  (480, 640, 3)\n",
      "Count:  8  | Image address:  ./data/Swarnim/Swarnim_16.jpg  | Label:  Swarnim  | Image shape:  (480, 640, 3)\n",
      "Count:  9  | Image address:  ./data/Swarnim/Swarnim_17.jpg  | Label:  Swarnim  | Image shape:  (480, 640, 3)\n",
      "Count:  10  | Image address:  ./data/Swarnim/Swarnim_18.jpg  | Label:  Swarnim  | Image shape:  (480, 640, 3)\n",
      "Count:  11  | Image address:  ./data/Swarnim/Swarnim_19.jpg  | Label:  Swarnim  | Image shape:  (480, 640, 3)\n",
      "Count:  12  | Image address:  ./data/Swarnim/Swarnim_2.jpg  | Label:  Swarnim  | Image shape:  (480, 640, 3)\n",
      "Count:  13  | Image address:  ./data/Swarnim/Swarnim_20.jpg  | Label:  Swarnim  | Image shape:  (480, 640, 3)\n",
      "Count:  14  | Image address:  ./data/Swarnim/Swarnim_21.jpg  | Label:  Swarnim  | Image shape:  (480, 640, 3)\n",
      "Count:  15  | Image address:  ./data/Swarnim/Swarnim_22.jpg  | Label:  Swarnim  | Image shape:  (480, 640, 3)\n",
      "Count:  16  | Image address:  ./data/Swarnim/Swarnim_23.jpg  | Label:  Swarnim  | Image shape:  (480, 640, 3)\n",
      "Count:  17  | Image address:  ./data/Swarnim/Swarnim_24.jpg  | Label:  Swarnim  | Image shape:  (480, 640, 3)\n",
      "Count:  18  | Image address:  ./data/Swarnim/Swarnim_25.jpg  | Label:  Swarnim  | Image shape:  (480, 640, 3)\n",
      "Count:  19  | Image address:  ./data/Swarnim/Swarnim_26.jpg  | Label:  Swarnim  | Image shape:  (480, 640, 3)\n",
      "Count:  20  | Image address:  ./data/Swarnim/Swarnim_27.jpg  | Label:  Swarnim  | Image shape:  (480, 640, 3)\n",
      "Count:  21  | Image address:  ./data/Swarnim/Swarnim_28.jpg  | Label:  Swarnim  | Image shape:  (480, 640, 3)\n",
      "Count:  22  | Image address:  ./data/Swarnim/Swarnim_29.jpg  | Label:  Swarnim  | Image shape:  (480, 640, 3)\n",
      "Count:  23  | Image address:  ./data/Swarnim/Swarnim_3.jpg  | Label:  Swarnim  | Image shape:  (480, 640, 3)\n",
      "Count:  24  | Image address:  ./data/Swarnim/Swarnim_30.jpg  | Label:  Swarnim  | Image shape:  (480, 640, 3)\n",
      "Count:  25  | Image address:  ./data/Swarnim/Swarnim_31.jpg  | Label:  Swarnim  | Image shape:  (480, 640, 3)\n",
      "Count:  26  | Image address:  ./data/Swarnim/Swarnim_32.jpg  | Label:  Swarnim  | Image shape:  (480, 640, 3)\n",
      "Count:  27  | Image address:  ./data/Swarnim/Swarnim_33.jpg  | Label:  Swarnim  | Image shape:  (480, 640, 3)\n",
      "Count:  28  | Image address:  ./data/Swarnim/Swarnim_34.jpg  | Label:  Swarnim  | Image shape:  (480, 640, 3)\n",
      "Count:  29  | Image address:  ./data/Swarnim/Swarnim_35.jpg  | Label:  Swarnim  | Image shape:  (480, 640, 3)\n",
      "Count:  30  | Image address:  ./data/Swarnim/Swarnim_36.jpg  | Label:  Swarnim  | Image shape:  (480, 640, 3)\n",
      "Count:  31  | Image address:  ./data/Swarnim/Swarnim_37.jpg  | Label:  Swarnim  | Image shape:  (480, 640, 3)\n",
      "Count:  32  | Image address:  ./data/Swarnim/Swarnim_38.jpg  | Label:  Swarnim  | Image shape:  (480, 640, 3)\n",
      "Count:  33  | Image address:  ./data/Swarnim/Swarnim_39.jpg  | Label:  Swarnim  | Image shape:  (480, 640, 3)\n",
      "Count:  34  | Image address:  ./data/Swarnim/Swarnim_4.jpg  | Label:  Swarnim  | Image shape:  (480, 640, 3)\n",
      "Count:  35  | Image address:  ./data/Swarnim/Swarnim_40.jpg  | Label:  Swarnim  | Image shape:  (480, 640, 3)\n",
      "Count:  36  | Image address:  ./data/Swarnim/Swarnim_41.jpg  | Label:  Swarnim  | Image shape:  (480, 640, 3)\n",
      "Count:  37  | Image address:  ./data/Swarnim/Swarnim_42.jpg  | Label:  Swarnim  | Image shape:  (480, 640, 3)\n",
      "Count:  38  | Image address:  ./data/Swarnim/Swarnim_43.jpg  | Label:  Swarnim  | Image shape:  (480, 640, 3)\n",
      "Count:  39  | Image address:  ./data/Swarnim/Swarnim_44.jpg  | Label:  Swarnim  | Image shape:  (480, 640, 3)\n",
      "Count:  40  | Image address:  ./data/Swarnim/Swarnim_45.jpg  | Label:  Swarnim  | Image shape:  (480, 640, 3)\n",
      "Count:  41  | Image address:  ./data/Swarnim/Swarnim_46.jpg  | Label:  Swarnim  | Image shape:  (480, 640, 3)\n",
      "Count:  42  | Image address:  ./data/Swarnim/Swarnim_47.jpg  | Label:  Swarnim  | Image shape:  (480, 640, 3)\n",
      "Count:  43  | Image address:  ./data/Swarnim/Swarnim_48.jpg  | Label:  Swarnim  | Image shape:  (480, 640, 3)\n",
      "Count:  44  | Image address:  ./data/Swarnim/Swarnim_49.jpg  | Label:  Swarnim  | Image shape:  (480, 640, 3)\n",
      "Count:  45  | Image address:  ./data/Swarnim/Swarnim_5.jpg  | Label:  Swarnim  | Image shape:  (480, 640, 3)\n",
      "Count:  46  | Image address:  ./data/Swarnim/Swarnim_50.jpg  | Label:  Swarnim  | Image shape:  (480, 640, 3)\n",
      "Count:  47  | Image address:  ./data/Swarnim/Swarnim_51.jpg  | Label:  Swarnim  | Image shape:  (480, 640, 3)\n",
      "Count:  48  | Image address:  ./data/Swarnim/Swarnim_52.jpg  | Label:  Swarnim  | Image shape:  (480, 640, 3)\n",
      "Count:  49  | Image address:  ./data/Swarnim/Swarnim_53.jpg  | Label:  Swarnim  | Image shape:  (480, 640, 3)\n",
      "Count:  50  | Image address:  ./data/Swarnim/Swarnim_54.jpg  | Label:  Swarnim  | Image shape:  (480, 640, 3)\n",
      "Count:  51  | Image address:  ./data/Swarnim/Swarnim_55.jpg  | Label:  Swarnim  | Image shape:  (480, 640, 3)\n",
      "Count:  52  | Image address:  ./data/Swarnim/Swarnim_56.jpg  | Label:  Swarnim  | Image shape:  (480, 640, 3)\n",
      "Count:  53  | Image address:  ./data/Swarnim/Swarnim_57.jpg  | Label:  Swarnim  | Image shape:  (480, 640, 3)\n",
      "Count:  54  | Image address:  ./data/Swarnim/Swarnim_58.jpg  | Label:  Swarnim  | Image shape:  (480, 640, 3)\n",
      "Count:  55  | Image address:  ./data/Swarnim/Swarnim_59.jpg  | Label:  Swarnim  | Image shape:  (480, 640, 3)\n",
      "Count:  56  | Image address:  ./data/Swarnim/Swarnim_6.jpg  | Label:  Swarnim  | Image shape:  (480, 640, 3)\n",
      "Count:  57  | Image address:  ./data/Swarnim/Swarnim_60.jpg  | Label:  Swarnim  | Image shape:  (480, 640, 3)\n",
      "Count:  58  | Image address:  ./data/Swarnim/Swarnim_61.jpg  | Label:  Swarnim  | Image shape:  (480, 640, 3)\n",
      "Count:  59  | Image address:  ./data/Swarnim/Swarnim_62.jpg  | Label:  Swarnim  | Image shape:  (480, 640, 3)\n",
      "Count:  60  | Image address:  ./data/Swarnim/Swarnim_63.jpg  | Label:  Swarnim  | Image shape:  (480, 640, 3)\n",
      "Count:  61  | Image address:  ./data/Swarnim/Swarnim_64.jpg  | Label:  Swarnim  | Image shape:  (480, 640, 3)\n",
      "Count:  62  | Image address:  ./data/Swarnim/Swarnim_65.jpg  | Label:  Swarnim  | Image shape:  (480, 640, 3)\n",
      "Count:  63  | Image address:  ./data/Swarnim/Swarnim_66.jpg  | Label:  Swarnim  | Image shape:  (480, 640, 3)\n",
      "Count:  64  | Image address:  ./data/Swarnim/Swarnim_67.jpg  | Label:  Swarnim  | Image shape:  (480, 640, 3)\n",
      "Count:  65  | Image address:  ./data/Swarnim/Swarnim_68.jpg  | Label:  Swarnim  | Image shape:  (480, 640, 3)\n",
      "Count:  66  | Image address:  ./data/Swarnim/Swarnim_69.jpg  | Label:  Swarnim  | Image shape:  (480, 640, 3)\n",
      "Count:  67  | Image address:  ./data/Swarnim/Swarnim_7.jpg  | Label:  Swarnim  | Image shape:  (480, 640, 3)\n",
      "Count:  68  | Image address:  ./data/Swarnim/Swarnim_70.jpg  | Label:  Swarnim  | Image shape:  (480, 640, 3)\n",
      "Count:  69  | Image address:  ./data/Swarnim/Swarnim_71.jpg  | Label:  Swarnim  | Image shape:  (480, 640, 3)\n",
      "Count:  70  | Image address:  ./data/Swarnim/Swarnim_72.jpg  | Label:  Swarnim  | Image shape:  (480, 640, 3)\n",
      "Count:  71  | Image address:  ./data/Swarnim/Swarnim_73.jpg  | Label:  Swarnim  | Image shape:  (480, 640, 3)\n",
      "Count:  72  | Image address:  ./data/Swarnim/Swarnim_74.jpg  | Label:  Swarnim  | Image shape:  (480, 640, 3)\n",
      "Count:  73  | Image address:  ./data/Swarnim/Swarnim_75.jpg  | Label:  Swarnim  | Image shape:  (480, 640, 3)\n",
      "Count:  74  | Image address:  ./data/Swarnim/Swarnim_76.jpg  | Label:  Swarnim  | Image shape:  (480, 640, 3)\n",
      "Count:  75  | Image address:  ./data/Swarnim/Swarnim_77.jpg  | Label:  Swarnim  | Image shape:  (480, 640, 3)\n",
      "Count:  76  | Image address:  ./data/Swarnim/Swarnim_78.jpg  | Label:  Swarnim  | Image shape:  (480, 640, 3)\n",
      "Count:  77  | Image address:  ./data/Swarnim/Swarnim_79.jpg  | Label:  Swarnim  | Image shape:  (480, 640, 3)\n",
      "Count:  78  | Image address:  ./data/Swarnim/Swarnim_8.jpg  | Label:  Swarnim  | Image shape:  (480, 640, 3)\n",
      "Count:  79  | Image address:  ./data/Swarnim/Swarnim_80.jpg  | Label:  Swarnim  | Image shape:  (480, 640, 3)\n",
      "Count:  80  | Image address:  ./data/Swarnim/Swarnim_81.jpg  | Label:  Swarnim  | Image shape:  (480, 640, 3)\n",
      "Count:  81  | Image address:  ./data/Swarnim/Swarnim_82.jpg  | Label:  Swarnim  | Image shape:  (480, 640, 3)\n",
      "Count:  82  | Image address:  ./data/Swarnim/Swarnim_83.jpg  | Label:  Swarnim  | Image shape:  (480, 640, 3)\n",
      "Count:  83  | Image address:  ./data/Swarnim/Swarnim_84.jpg  | Label:  Swarnim  | Image shape:  (480, 640, 3)\n",
      "Count:  84  | Image address:  ./data/Swarnim/Swarnim_85.jpg  | Label:  Swarnim  | Image shape:  (480, 640, 3)\n",
      "Count:  85  | Image address:  ./data/Swarnim/Swarnim_86.jpg  | Label:  Swarnim  | Image shape:  (480, 640, 3)\n",
      "Count:  86  | Image address:  ./data/Swarnim/Swarnim_87.jpg  | Label:  Swarnim  | Image shape:  (480, 640, 3)\n",
      "Count:  87  | Image address:  ./data/Swarnim/Swarnim_88.jpg  | Label:  Swarnim  | Image shape:  (480, 640, 3)\n",
      "Count:  88  | Image address:  ./data/Swarnim/Swarnim_89.jpg  | Label:  Swarnim  | Image shape:  (480, 640, 3)\n",
      "Images shape:  (1545, 150, 150, 3)\n",
      "Labels shape:  (1545,)\n"
     ]
    }
   ],
   "source": [
    "# function to make the image size uniform and make train and test object with labels\n",
    "class dataframe():\n",
    "    def __init__(self):\n",
    "        self.deva_faces = deva_faces\n",
    "        self.swar_faces = swar_faces\n",
    "        self.neg_faces = neg_faces\n",
    "        self.images, self.labels = list(), list()\n",
    "\n",
    "        self.total_images = len(deva_faces)+len(swar_faces)+len(neg_faces)\n",
    "        self.labels_list = ['Unknown', 'Devasheesh', 'Swarnim']\n",
    "\n",
    "        print('Total images: ', self.total_images)\n",
    "\n",
    "        self.datagen = ImageDataGenerator(\n",
    "            rotation_range=40,  # randomly rotate images in the range (degrees, 0 to 180)\n",
    "            width_shift_range=0.2,  # randomly shift images horizontally (fraction of total width)\n",
    "            height_shift_range=0.2, # randomly shift images vertically (fraction of total height)\n",
    "            shear_range=0.2,    # set range for random shear\n",
    "            zoom_range=0.2,    # set range for random zoom\n",
    "            horizontal_flip=True,   # randomly flip images\n",
    "            fill_mode='nearest' # set mode for filling points outside the input boundaries\n",
    "        )\n",
    "\n",
    "    def append_dataframe(self, images_list, label, augment=False, grayscale=False):\n",
    "        count = 1\n",
    "        for image_adr in images_list:\n",
    "            # read the image\n",
    "            image = cv2.imread(image_adr)\n",
    "            # extract the face\n",
    "            face, _ = extract_frontal_face(image, grayscale=grayscale, size=(150, 150))\n",
    "\n",
    "            print('Count: ', count, ' | Image address: ', image_adr, ' | Label: ',self.labels_list[label], ' | Image shape: ', image.shape)\n",
    "            if face is not None:\n",
    "                # print('Face type: ', type(face))\n",
    "                # print('Image shape: ', image.shape)\n",
    "                # print('Face shape: ', face.shape)\n",
    "                # print('Face: ', plt.imshow(face))\n",
    "\n",
    "                # append the face image to the list\n",
    "                if augment:\n",
    "                    # using the image data generator to augment the images\n",
    "                    i = 0\n",
    "                    for batch in self.datagen.flow(face.reshape(1, 150, 150, 3), batch_size=1):\n",
    "                        # append the image to the list\n",
    "                        self.images.append(batch[0])\n",
    "                        self.labels.append(label)\n",
    "                        i += 1\n",
    "                        if i > 10:\n",
    "                            break\n",
    "                    count += 1\n",
    "\n",
    "                else:\n",
    "                    self.images.append(face)\n",
    "                    self.labels.append(label)\n",
    "                    count += 1\n",
    "            else:\n",
    "                print(f'Face not found in {image_adr}')\n",
    "                continue\n",
    "    \n",
    "    def make_dataframe(self):\n",
    "        self.append_dataframe(self.neg_faces, 0, augment=False)\n",
    "        self.append_dataframe(self.deva_faces, 1, augment=True)\n",
    "        self.append_dataframe(self.swar_faces, 2, augment=True)\n",
    "        self.images = np.array(self.images)\n",
    "        self.labels = np.array(self.labels)\n",
    "        print('Images shape: ', self.images.shape)\n",
    "        print('Labels shape: ', self.labels.shape)\n",
    "        return self.images/255.0, self.labels, self.labels_list\n",
    "\n",
    "x = dataframe()\n",
    "images, labels, labels_list = x.make_dataframe()"
   ]
  },
  {
   "cell_type": "code",
   "execution_count": null,
   "metadata": {},
   "outputs": [],
   "source": [
    "for x in range(len(images)):\n",
    "    try:\n",
    "        plt.imshow(images[x])\n",
    "        plt.title(labels_list[int(labels[x])])\n",
    "        plt.show()\n",
    "    except:\n",
    "        print(f'Error in {x}')"
   ]
  },
  {
   "attachments": {},
   "cell_type": "markdown",
   "metadata": {},
   "source": [
    "## Splitting the data into train and test"
   ]
  },
  {
   "cell_type": "code",
   "execution_count": 8,
   "metadata": {},
   "outputs": [],
   "source": [
    "# split the data into train and test\n",
    "train_images, test_images, train_labels, test_labels = train_test_split(images, labels, test_size=0.2)"
   ]
  },
  {
   "cell_type": "code",
   "execution_count": 9,
   "metadata": {},
   "outputs": [
    {
     "data": {
      "text/plain": [
       "(1545, 150, 150, 3)"
      ]
     },
     "execution_count": 9,
     "metadata": {},
     "output_type": "execute_result"
    }
   ],
   "source": [
    "images.shape"
   ]
  },
  {
   "cell_type": "code",
   "execution_count": 10,
   "metadata": {},
   "outputs": [
    {
     "data": {
      "text/plain": [
       "(1236, 150, 150, 3)"
      ]
     },
     "execution_count": 10,
     "metadata": {},
     "output_type": "execute_result"
    }
   ],
   "source": [
    "train_images.shape"
   ]
  },
  {
   "cell_type": "code",
   "execution_count": 11,
   "metadata": {},
   "outputs": [
    {
     "data": {
      "text/plain": [
       "(309, 150, 150, 3)"
      ]
     },
     "execution_count": 11,
     "metadata": {},
     "output_type": "execute_result"
    }
   ],
   "source": [
    "test_images.shape"
   ]
  },
  {
   "attachments": {},
   "cell_type": "markdown",
   "metadata": {},
   "source": [
    "## Creating The CNN Model"
   ]
  },
  {
   "cell_type": "code",
   "execution_count": 17,
   "metadata": {},
   "outputs": [
    {
     "name": "stdout",
     "output_type": "stream",
     "text": [
      "Model: \"sequential_2\"\n",
      "_________________________________________________________________\n",
      " Layer (type)                Output Shape              Param #   \n",
      "=================================================================\n",
      " conv2d_6 (Conv2D)           (None, 148, 148, 32)      896       \n",
      "                                                                 \n",
      " max_pooling2d_4 (MaxPooling  (None, 74, 74, 32)       0         \n",
      " 2D)                                                             \n",
      "                                                                 \n",
      " conv2d_7 (Conv2D)           (None, 72, 72, 64)        18496     \n",
      "                                                                 \n",
      " max_pooling2d_5 (MaxPooling  (None, 36, 36, 64)       0         \n",
      " 2D)                                                             \n",
      "                                                                 \n",
      " conv2d_8 (Conv2D)           (None, 34, 34, 64)        36928     \n",
      "                                                                 \n",
      " flatten (Flatten)           (None, 73984)             0         \n",
      "                                                                 \n",
      " dense (Dense)               (None, 64)                4735040   \n",
      "                                                                 \n",
      " dense_1 (Dense)             (None, 3)                 195       \n",
      "                                                                 \n",
      "=================================================================\n",
      "Total params: 4,791,555\n",
      "Trainable params: 4,791,555\n",
      "Non-trainable params: 0\n",
      "_________________________________________________________________\n"
     ]
    }
   ],
   "source": [
    "model = models.Sequential()\n",
    "model.add(layers.Conv2D(32, (3, 3), activation='relu', input_shape=(150,150,3)))\n",
    "model.add(layers.MaxPooling2D((2, 2)))\n",
    "model.add(layers.Conv2D(64, (3, 3), activation='relu'))\n",
    "model.add(layers.MaxPooling2D((2, 2)))\n",
    "model.add(layers.Conv2D(64, (3, 3), activation='relu'))\n",
    "model.add(layers.Flatten())\n",
    "model.add(layers.Dense(64, activation='relu'))\n",
    "model.add(layers.Dense(len(labels_list), activation='softmax'))\n",
    "\n",
    "model.summary()\n",
    "\n"
   ]
  },
  {
   "cell_type": "code",
   "execution_count": 18,
   "metadata": {},
   "outputs": [
    {
     "name": "stderr",
     "output_type": "stream",
     "text": [
      "2023-02-19 04:01:41.001458: W tensorflow/tsl/framework/cpu_allocator_impl.cc:82] Allocation of 333720000 exceeds 10% of free system memory.\n",
      "2023-02-19 04:01:41.512114: W tensorflow/tsl/framework/cpu_allocator_impl.cc:82] Allocation of 333720000 exceeds 10% of free system memory.\n"
     ]
    },
    {
     "name": "stdout",
     "output_type": "stream",
     "text": [
      "Epoch 1/10\n"
     ]
    },
    {
     "name": "stderr",
     "output_type": "stream",
     "text": [
      "/home/swarnim/.local/lib/python3.10/site-packages/keras/backend.py:5585: UserWarning: \"`sparse_categorical_crossentropy` received `from_logits=True`, but the `output` argument was produced by a Softmax activation and thus does not represent logits. Was this intended?\n",
      "  output, from_logits = _get_logits(\n",
      "2023-02-19 04:01:44.492984: I tensorflow/compiler/xla/stream_executor/cuda/cuda_dnn.cc:428] Loaded cuDNN version 8700\n",
      "2023-02-19 04:01:46.582358: I tensorflow/tsl/platform/default/subprocess.cc:304] Start cannot spawn child process: No such file or directory\n",
      "2023-02-19 04:01:46.919607: I tensorflow/compiler/xla/service/service.cc:173] XLA service 0x563f9632d320 initialized for platform CUDA (this does not guarantee that XLA will be used). Devices:\n",
      "2023-02-19 04:01:46.919667: I tensorflow/compiler/xla/service/service.cc:181]   StreamExecutor device (0): NVIDIA GeForce GTX 1050, Compute Capability 6.1\n",
      "2023-02-19 04:01:46.975373: I tensorflow/compiler/mlir/tensorflow/utils/dump_mlir_util.cc:268] disabling MLIR crash reproducer, set env var `MLIR_CRASH_REPRODUCER_DIRECTORY` to enable.\n",
      "2023-02-19 04:01:47.362174: I tensorflow/tsl/platform/default/subprocess.cc:304] Start cannot spawn child process: No such file or directory\n",
      "2023-02-19 04:01:47.429796: I tensorflow/compiler/jit/xla_compilation_cache.cc:477] Compiled cluster using XLA!  This line is logged at most once for the lifetime of the process.\n"
     ]
    },
    {
     "name": "stdout",
     "output_type": "stream",
     "text": [
      "39/39 [==============================] - 11s 76ms/step - loss: 0.5547 - accuracy: 0.8293 - val_loss: 0.0858 - val_accuracy: 0.9741\n",
      "Epoch 2/10\n",
      "39/39 [==============================] - 2s 51ms/step - loss: 0.0707 - accuracy: 0.9879 - val_loss: 0.0084 - val_accuracy: 1.0000\n",
      "Epoch 3/10\n",
      "39/39 [==============================] - 2s 50ms/step - loss: 0.0194 - accuracy: 0.9935 - val_loss: 0.0017 - val_accuracy: 1.0000\n",
      "Epoch 4/10\n",
      "39/39 [==============================] - 2s 50ms/step - loss: 6.6522e-04 - accuracy: 1.0000 - val_loss: 6.9355e-05 - val_accuracy: 1.0000\n",
      "Epoch 5/10\n",
      "39/39 [==============================] - 2s 50ms/step - loss: 1.1805e-04 - accuracy: 1.0000 - val_loss: 5.0902e-05 - val_accuracy: 1.0000\n",
      "Epoch 6/10\n",
      "39/39 [==============================] - 2s 51ms/step - loss: 4.7071e-05 - accuracy: 1.0000 - val_loss: 1.6847e-05 - val_accuracy: 1.0000\n",
      "Epoch 7/10\n",
      "39/39 [==============================] - 2s 50ms/step - loss: 2.8273e-05 - accuracy: 1.0000 - val_loss: 1.2995e-05 - val_accuracy: 1.0000\n",
      "Epoch 8/10\n",
      "39/39 [==============================] - 2s 50ms/step - loss: 2.0195e-05 - accuracy: 1.0000 - val_loss: 1.0528e-05 - val_accuracy: 1.0000\n",
      "Epoch 9/10\n",
      "39/39 [==============================] - 2s 51ms/step - loss: 1.5944e-05 - accuracy: 1.0000 - val_loss: 8.6950e-06 - val_accuracy: 1.0000\n",
      "Epoch 10/10\n",
      "39/39 [==============================] - 2s 50ms/step - loss: 1.3306e-05 - accuracy: 1.0000 - val_loss: 7.3699e-06 - val_accuracy: 1.0000\n"
     ]
    }
   ],
   "source": [
    "model.compile(optimizer='adam',\n",
    "              loss=tf.keras.losses.SparseCategoricalCrossentropy(from_logits=True),\n",
    "              metrics=['accuracy'])\n",
    "\n",
    "history = model.fit(train_images, train_labels, epochs=10, \n",
    "                    validation_data=(test_images, test_labels))"
   ]
  },
  {
   "cell_type": "code",
   "execution_count": 19,
   "metadata": {},
   "outputs": [
    {
     "name": "stdout",
     "output_type": "stream",
     "text": [
      "10/10 - 0s - loss: 7.3699e-06 - accuracy: 1.0000 - 252ms/epoch - 25ms/step\n",
      "1.0\n"
     ]
    }
   ],
   "source": [
    "test_loss, test_acc = model.evaluate(test_images,  test_labels, verbose=2)\n",
    "print(test_acc)\n"
   ]
  },
  {
   "cell_type": "code",
   "execution_count": 20,
   "metadata": {},
   "outputs": [],
   "source": [
    "model.save('face_recognition_model.h5')"
   ]
  },
  {
   "cell_type": "code",
   "execution_count": null,
   "metadata": {},
   "outputs": [],
   "source": [
    "# create a function to predict using webcam\n",
    "def predict(model, labels_list, grayscale=False):\n",
    "    # initialize the video capture object\n",
    "    cap = cv2.VideoCapture(0)\n",
    "    while True:\n",
    "        # read the frame from the webcam\n",
    "        _, frame = cap.read()\n",
    "        # extract the face\n",
    "        face, confidence = extract_frontal_face(frame, grayscale=grayscale, size=(150, 150))\n",
    "        if face is not None:\n",
    "            # predict the label\n",
    "            label = np.argmax(model.predict(face.reshape(1, 150, 150, 3)))\n",
    "            # draw the rectangle\n",
    "            cv2.rectangle(frame, (x, y), (x2, y2), (0, 255, 0), 2)\n",
    "            # draw the text\n",
    "            cv2.putText(frame, f'{labels_list[label]} {confidence*100:.2f}%', (x, y-10), cv2.FONT_HERSHEY_SIMPLEX, 0.8, (0, 255, 0), 2)\n",
    "        cv2.imshow('Face Recognition', frame)\n",
    "        if cv2.waitKey(1) & 0xFF == ord('q'):\n",
    "            break\n",
    "    cap.release()\n",
    "    cv2.destroyAllWindows()"
   ]
  }
 ],
 "metadata": {
  "kernelspec": {
   "display_name": "Python 3",
   "language": "python",
   "name": "python3"
  },
  "language_info": {
   "codemirror_mode": {
    "name": "ipython",
    "version": 3
   },
   "file_extension": ".py",
   "mimetype": "text/x-python",
   "name": "python",
   "nbconvert_exporter": "python",
   "pygments_lexer": "ipython3",
   "version": "3.10.6"
  },
  "orig_nbformat": 4,
  "vscode": {
   "interpreter": {
    "hash": "e7370f93d1d0cde622a1f8e1c04877d8463912d04d973331ad4851f04de6915a"
   }
  }
 },
 "nbformat": 4,
 "nbformat_minor": 2
}
