{
 "cells": [
  {
   "cell_type": "code",
   "execution_count": 1,
   "metadata": {},
   "outputs": [
    {
     "name": "stderr",
     "output_type": "stream",
     "text": [
      "2023-03-05 17:18:42.776373: I tensorflow/core/platform/cpu_feature_guard.cc:193] This TensorFlow binary is optimized with oneAPI Deep Neural Network Library (oneDNN) to use the following CPU instructions in performance-critical operations:  AVX2 FMA\n",
      "To enable them in other operations, rebuild TensorFlow with the appropriate compiler flags.\n",
      "2023-03-05 17:18:42.861844: W tensorflow/compiler/xla/stream_executor/platform/default/dso_loader.cc:64] Could not load dynamic library 'libcudart.so.11.0'; dlerror: libcudart.so.11.0: cannot open shared object file: No such file or directory\n",
      "2023-03-05 17:18:42.861860: I tensorflow/compiler/xla/stream_executor/cuda/cudart_stub.cc:29] Ignore above cudart dlerror if you do not have a GPU set up on your machine.\n",
      "2023-03-05 17:18:43.350622: W tensorflow/compiler/xla/stream_executor/platform/default/dso_loader.cc:64] Could not load dynamic library 'libnvinfer.so.7'; dlerror: libnvinfer.so.7: cannot open shared object file: No such file or directory\n",
      "2023-03-05 17:18:43.350664: W tensorflow/compiler/xla/stream_executor/platform/default/dso_loader.cc:64] Could not load dynamic library 'libnvinfer_plugin.so.7'; dlerror: libnvinfer_plugin.so.7: cannot open shared object file: No such file or directory\n",
      "2023-03-05 17:18:43.350668: W tensorflow/compiler/tf2tensorrt/utils/py_utils.cc:38] TF-TRT Warning: Cannot dlopen some TensorRT libraries. If you would like to use Nvidia GPU with TensorRT, please make sure the missing libraries mentioned above are installed properly.\n"
     ]
    }
   ],
   "source": [
    "import tensorflow as tf\n",
    "import numpy as np\n",
    "import os\n",
    "import matplotlib.pyplot as plt\n",
    "import mysql.connector\n"
   ]
  },
  {
   "cell_type": "code",
   "execution_count": 2,
   "metadata": {},
   "outputs": [],
   "source": [
    "# connect to database\n",
    "mydb = mysql.connector.connect(\n",
    "    user=\"root\", passwd=\"jarvis@admin\", host=\"192.168.1.97\", port=\"3306\")\n",
    "connector = mydb.cursor()"
   ]
  },
  {
   "cell_type": "code",
   "execution_count": 3,
   "metadata": {},
   "outputs": [
    {
     "name": "stderr",
     "output_type": "stream",
     "text": [
      "2023-03-05 17:18:46.711985: W tensorflow/compiler/xla/stream_executor/platform/default/dso_loader.cc:64] Could not load dynamic library 'libcuda.so.1'; dlerror: libcuda.so.1: cannot open shared object file: No such file or directory\n",
      "2023-03-05 17:18:46.712004: W tensorflow/compiler/xla/stream_executor/cuda/cuda_driver.cc:265] failed call to cuInit: UNKNOWN ERROR (303)\n",
      "2023-03-05 17:18:46.712018: I tensorflow/compiler/xla/stream_executor/cuda/cuda_diagnostics.cc:156] kernel driver does not appear to be running on this host (training-server): /proc/driver/nvidia/version does not exist\n",
      "2023-03-05 17:18:46.712230: I tensorflow/core/platform/cpu_feature_guard.cc:193] This TensorFlow binary is optimized with oneAPI Deep Neural Network Library (oneDNN) to use the following CPU instructions in performance-critical operations:  AVX2 FMA\n",
      "To enable them in other operations, rebuild TensorFlow with the appropriate compiler flags.\n"
     ]
    }
   ],
   "source": [
    "deva_images_list = tf.data.Dataset.list_files(\n",
    "    '/mnt/coding-drive/DATASETS/positive_face_dataset/Devasheesh/*.jpg', shuffle=True)\n",
    "swar_images_list = tf.data.Dataset.list_files(\n",
    "    '/mnt/coding-drive/DATASETS/positive_face_dataset/Swarnim/*.jpg', shuffle=True)\n",
    "neg_images_list = tf.data.Dataset.list_files(\n",
    "    '/mnt/coding-drive/DATASETS/negative-faces/VGG-Face2/data/test/*/*.jpg', shuffle=True)\n",
    "\n",
    "# combine all the images into one dataset\n",
    "images_list = deva_images_list.concatenate(swar_images_list).concatenate(neg_images_list)\n",
    "\n",
    "# shuffle the dataset\n",
    "images_list = images_list.shuffle(buffer_size=1000)"
   ]
  },
  {
   "cell_type": "code",
   "execution_count": 7,
   "metadata": {},
   "outputs": [],
   "source": [
    "# take the image path and return the label\n",
    "def get_label(image_path):\n",
    "    if 'Devasheesh' in image_path.numpy().decode('utf-8'):\n",
    "        return 1\n",
    "    elif 'Swarnim' in image_path.numpy().decode('utf-8'):\n",
    "        return 2\n",
    "    elif 'negative-faces' in image_path.numpy().decode('utf-8'):\n",
    "        return 0\n",
    "    else:\n",
    "        import sys\n",
    "        sys.exit('Error: Label not found')\n"
   ]
  },
  {
   "cell_type": "code",
   "execution_count": 10,
   "metadata": {},
   "outputs": [
    {
     "name": "stdout",
     "output_type": "stream",
     "text": [
      "b'/mnt/coding-drive/DATASETS/negative-faces/VGG-Face2/data/test/n001439/0247_02.jpg'\n",
      "0\n",
      "b'/mnt/coding-drive/DATASETS/negative-faces/VGG-Face2/data/test/n008037/0558_02.jpg'\n",
      "0\n",
      "b'/mnt/coding-drive/DATASETS/negative-faces/VGG-Face2/data/test/n000129/0307_01.jpg'\n",
      "0\n",
      "b'/mnt/coding-drive/DATASETS/negative-faces/VGG-Face2/data/test/n004333/0156_01.jpg'\n",
      "0\n",
      "b'/mnt/coding-drive/DATASETS/positive_face_dataset/Devasheesh/Devasheesh_12.jpg'\n",
      "1\n"
     ]
    }
   ],
   "source": [
    "#! see values inside variables\n",
    "for i in images_list.take(5):\n",
    "    print(i.numpy())\n",
    "    print(get_label(i))\n",
    "\n",
    "# print(len(images_list))\n",
    "# print(type(images_list))"
   ]
  },
  {
   "cell_type": "code",
   "execution_count": null,
   "metadata": {},
   "outputs": [],
   "source": [
    "def extract_face_sql(path):\n",
    "    # print(path)\n",
    "    connector.execute(\"SELECT face FROM face_recognition.faces WHERE path = %s\", (path,))\n",
    "    face = connector.fetchone()\n",
    "    if face is None:\n",
    "        return None\n",
    "    else:\n",
    "        return face[0]"
   ]
  },
  {
   "cell_type": "code",
   "execution_count": null,
   "metadata": {},
   "outputs": [],
   "source": [
    "# takes the image path and returns the the face as a tensor\n",
    "def preprocess_image(image_path):\n",
    "    label, path = get_label(image_path)\n",
    "    image = tf.io.read_file(image_path)\n",
    "    image = tf.image.decode_jpeg(image, channels=3)\n",
    "    image = tf.image.resize(image, [360, 480])\n",
    "    # ? extract the face from the image using dataframe\n",
    "    X, Y, W, H = extract_face_sql(path)\n",
    "    \n",
    "    face = tf.image.crop_to_bounding_box(image, X, Y, W, H)\n",
    "    \n",
    "    face = tf.cast(face, tf.float32)\n",
    "    return face / 255.0, label\n",
    "    # return image"
   ]
  },
  {
   "cell_type": "code",
   "execution_count": null,
   "metadata": {},
   "outputs": [],
   "source": [
    "image_path, face, label = preprocess_image('data/Unknown/n000029/0145_01.jpg')\n",
    "image_path\n",
    "\n",
    "# image.numpy().shape\n",
    "# print(type(preprocess_image('data\\\\Unknown\\\\n000029\\\\0145_01.jpg')))\n",
    "# plt.imshow(image, cmap='gray')\n",
    "# plt.title(label)\n",
    "# image"
   ]
  },
  {
   "cell_type": "code",
   "execution_count": null,
   "metadata": {},
   "outputs": [],
   "source": [
    "# dataset object\n",
    "\n",
    "# Define a generator function that yields each file path\n",
    "# def generator():\n",
    "#     for filepath in imagesHAMK_list:\n",
    "#         yield filepath\n",
    "\n",
    "# dataset = tf.data.Dataset.from_generator(generator, output_types=tf.string)\n",
    "# print(dataset)\n",
    "dataset = images_list.map(preprocess_image, num_parallel_calls=tf.data.experimental.AUTOTUNE)"
   ]
  },
  {
   "cell_type": "code",
   "execution_count": null,
   "metadata": {},
   "outputs": [],
   "source": [
    "for img, label in dataset.take(3):\n",
    "    # print(img.shape)\n",
    "    plt.imshow(img, cmap='gray')\n",
    "    # print(type(label))\n",
    "    plt.title(label)\n",
    "    plt.show()"
   ]
  }
 ],
 "metadata": {
  "kernelspec": {
   "display_name": "Python 3",
   "language": "python",
   "name": "python3"
  },
  "language_info": {
   "codemirror_mode": {
    "name": "ipython",
    "version": 3
   },
   "file_extension": ".py",
   "mimetype": "text/x-python",
   "name": "python",
   "nbconvert_exporter": "python",
   "pygments_lexer": "ipython3",
   "version": "3.10.6"
  },
  "vscode": {
   "interpreter": {
    "hash": "916dbcbb3f70747c44a77c7bcd40155683ae19c65e1c03b4aa3499c5328201f1"
   }
  }
 },
 "nbformat": 4,
 "nbformat_minor": 4
}
