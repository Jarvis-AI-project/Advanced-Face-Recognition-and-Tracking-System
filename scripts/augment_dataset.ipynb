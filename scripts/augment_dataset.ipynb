{
 "cells": [
  {
   "cell_type": "code",
   "execution_count": 10,
   "metadata": {},
   "outputs": [],
   "source": [
    "import os\n",
    "import cv2\n",
    "import imgaug.augmenters as imgaug"
   ]
  },
  {
   "cell_type": "code",
   "execution_count": 9,
   "metadata": {},
   "outputs": [],
   "source": [
    "data_dir = '/coding-drive/DATASETS/face-recognition-tensorflow-test-data/Unknown/'\n",
    "num_aug_per_image = 5"
   ]
  },
  {
   "cell_type": "code",
   "execution_count": 3,
   "metadata": {},
   "outputs": [],
   "source": [
    "augmenter = imgaug.Sequential([\n",
    "    imgaug.Rotate((-45, 45)),  # rotate\n",
    "    imgaug.Fliplr(0.5),  # flip left right\n",
    "    imgaug.Flipud(0.5),  # flip up down\n",
    "    # move image in x and y axis\n",
    "    imgaug.Affine(translate_percent={\"x\": (-0.2, 0.2), \"y\": (-0.2, 0.2)}),\n",
    "    imgaug.Affine(scale=(0.8, 1.2)),  # scale image\n",
    "    imgaug.Multiply((0.8, 1.2)),  # multiply image\n",
    "\n",
    "    imgaug.Sometimes(0.5,\n",
    "                     imgaug.GaussianBlur(sigma=(0.0, 3.0)),  # blur image\n",
    "                     imgaug.AdditiveGaussianNoise(\n",
    "                         scale=(0, 0.05*255)),  # add noise\n",
    "                     ),\n",
    "\n",
    "    imgaug.LinearContrast((0.5, 1.5)),  # change contrast\n",
    "\n",
    "])"
   ]
  },
  {
   "cell_type": "code",
   "execution_count": 11,
   "metadata": {},
   "outputs": [
    {
     "name": "stdout",
     "output_type": "stream",
     "text": [
      "Augmented 107445 images out of 107445 output augmented images...\r"
     ]
    }
   ],
   "source": [
    "count = 0\n",
    "images = os.listdir(data_dir)\n",
    "total = len(images) * num_aug_per_image\n",
    "for img in images:\n",
    "    image = cv2.imread(os.path.join(data_dir, img))\n",
    "\n",
    "    for i in range(num_aug_per_image):\n",
    "        image_aug = augmenter.augment_image(image)\n",
    "        cv2.imwrite(os.path.join(data_dir, f'{img[:-4]}_augment_{i}.jpg'), image_aug)\n",
    "        count += 1\n",
    "    print(f'Augmented {count} images out of {total} output augmented images...', end='\\r')"
   ]
  }
 ],
 "metadata": {
  "kernelspec": {
   "display_name": "Python 3",
   "language": "python",
   "name": "python3"
  },
  "language_info": {
   "codemirror_mode": {
    "name": "ipython",
    "version": 3
   },
   "file_extension": ".py",
   "mimetype": "text/x-python",
   "name": "python",
   "nbconvert_exporter": "python",
   "pygments_lexer": "ipython3",
   "version": "3.10.6"
  },
  "orig_nbformat": 4,
  "vscode": {
   "interpreter": {
    "hash": "916dbcbb3f70747c44a77c7bcd40155683ae19c65e1c03b4aa3499c5328201f1"
   }
  }
 },
 "nbformat": 4,
 "nbformat_minor": 2
}
