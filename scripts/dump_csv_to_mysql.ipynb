{
 "cells": [
  {
   "cell_type": "code",
   "execution_count": null,
   "metadata": {},
   "outputs": [],
   "source": [
    "import mysql.connector\n",
    "from time import sleep\n",
    "import csv\n",
    "database = mysql.connector.connect(\n",
    "    user='root', password='jarvis@admin', host='192.168.1.97', port='3306')\n",
    "cursor = database.cursor()"
   ]
  },
  {
   "cell_type": "code",
   "execution_count": null,
   "metadata": {},
   "outputs": [],
   "source": [
    "cursor.execute('CREATE DATABASE IF NOT EXISTS VGG_Face2')\n",
    "cursor.execute('USE VGG_Face2')"
   ]
  },
  {
   "cell_type": "code",
   "execution_count": null,
   "metadata": {},
   "outputs": [],
   "source": [
    "cursor.execute(\n",
    "    'CREATE TABLE IF NOT EXISTS VGG_Face2_TRAIN (PATH VARCHAR(255) PRIMARY KEY NOT NULL, X INT, Y INT, W INT, H INT)')\n",
    "\n",
    "cursor.execute(\n",
    "    'CREATE TABLE IF NOT EXISTS VGG_Face2_TEST (PATH VARCHAR(255) PRIMARY KEY, X INT, Y INT, W INT, H INT)')\n",
    "\n",
    "cursor.execute(\n",
    "    'CREATE TABLE IF NOT EXISTS VGG_Face2_METADATA (CLASS_ID VARCHAR(20) PRIMARY KEY NOT NULL, NAME VARCHAR(100) , NUM_SAMPLES INT, FLAG INT , GENDER VARCHAR(1))')\n"
   ]
  },
  {
   "cell_type": "code",
   "execution_count": null,
   "metadata": {},
   "outputs": [],
   "source": [
    "# loose_bb_test.csv and loose_bb_train.csv\n",
    "# ! DONE\n",
    "with open(r'/coding-drive/DATASETS/negative-faces/VGG-Face2/meta/bb_landmark/loose_bb_train.csv', 'r') as file:\n",
    "    reader = csv.reader(file)\n",
    "    next(reader)\n",
    "    count = 0\n",
    "    for row in reader:\n",
    "        PATH = row[0]\n",
    "        X = row[1]\n",
    "        Y = row[2]\n",
    "        W = row[3]\n",
    "        H = row[4]\n",
    "\n",
    "        cursor.execute(\n",
    "            'INSERT INTO VGG_Face2_TRAIN (PATH,X,Y,W,H) VALUES (%s,%s,%s,%s,%s)', (PATH, X, Y, W, H))\n",
    "        \n",
    "        # print real time progress\n",
    "        print(f'{count} records inserted', end='\\r')\n",
    "        count += 1\n",
    "sleep(1)\n",
    "print('Commiting changes...')\n",
    "database.commit()\n"
   ]
  },
  {
   "cell_type": "code",
   "execution_count": null,
   "metadata": {},
   "outputs": [],
   "source": [
    "# loose_landmark_test.csv and loose_landmark_train.csv\n",
    "# ! DONE\n",
    "cursor.execute(\n",
    "    'ALTER TABLE VGG_Face2_TRAIN ADD COLUMN P1X INT NOT NULL, ADD COLUMN P1Y INT NOT NULL, ADD COLUMN P2X INT NOT NULL, ADD COLUMN P2Y INT NOT NULL, ADD COLUMN P3X INT NOT NULL, ADD COLUMN P3Y INT NOT NULL, ADD COLUMN P4X INT NOT NULL, ADD COLUMN P4Y INT NOT NULL, ADD COLUMN P5X INT NOT NULL, ADD COLUMN P5Y INT NOT NULL')\n",
    "\n",
    "with open(r'/coding-drive/DATASETS/negative-faces/VGG-Face2/meta/bb_landmark/loose_landmark_train.csv', 'r') as file:\n",
    "    reader = csv.reader(file)\n",
    "    next(reader)\n",
    "    count = 0\n",
    "    for row in reader:\n",
    "        PATH = row[0]\n",
    "\n",
    "        P1X, P1Y, P2X, P2Y, P3X, P3Y, P4X, P4Y, P5X, P5Y = row[1], row[\n",
    "            2], row[3], row[4], row[5], row[6], row[7], row[8], row[9], row[10]\n",
    "\n",
    "        cursor.execute('UPDATE VGG_Face2_TRAIN SET P1X=%s, P1Y=%s, P2X=%s, P2Y=%s, P3X=%s, P3Y=%s, P4X=%s, P4Y=%s, P5X=%s, P5Y=%s WHERE PATH=%s',(P1X, P1Y, P2X, P2Y, P3X, P3Y, P4X, P4Y, P5X, P5Y, PATH))\n",
    "\n",
    "        # print real time progress\n",
    "        print(f'{count} records inserted', end='\\r')\n",
    "        count += 1\n",
    "\n",
    "sleep(1)\n",
    "print('Commiting changes...')\n",
    "database.commit()\n"
   ]
  },
  {
   "cell_type": "code",
   "execution_count": null,
   "metadata": {},
   "outputs": [],
   "source": [
    "# identity_meta.csv\n",
    "# ! DONE\n",
    "with open(r'/coding-drive/DATASETS/negative-faces/VGG-Face2/meta/identity_meta.csv') as file:\n",
    "    reader = csv.reader(file)\n",
    "    count = 0\n",
    "    next(reader)\n",
    "    for row in reader:\n",
    "        CLASS_ID = row[0]\n",
    "        NAME = row[1]\n",
    "        NUM_SAMPLES = row[2]\n",
    "        FLAG = row[3]\n",
    "        GENDER = row[4]\n",
    "        cursor.execute(\n",
    "            'INSERT INTO VGG_Face2_METADATA (CLASS_ID, NAME, NUM_SAMPLES, FLAG, GENDER) VALUES (%s,%s,%s,%s,%s)', (CLASS_ID, NAME, NUM_SAMPLES, FLAG, GENDER.strip()))\n",
    "        \n",
    "        # print real time progress\n",
    "        print(f'{count} records inserted', end='\\r')\n",
    "        count += 1\n",
    "sleep(1)\n",
    "print('Commiting changes...')\n",
    "database.commit()"
   ]
  },
  {
   "cell_type": "code",
   "execution_count": null,
   "metadata": {},
   "outputs": [],
   "source": [
    "# closing the connection\n",
    "cursor.close()\n",
    "database.close()\n"
   ]
  }
 ],
 "metadata": {
  "kernelspec": {
   "display_name": "Python 3",
   "language": "python",
   "name": "python3"
  },
  "language_info": {
   "codemirror_mode": {
    "name": "ipython",
    "version": 3
   },
   "file_extension": ".py",
   "mimetype": "text/x-python",
   "name": "python",
   "nbconvert_exporter": "python",
   "pygments_lexer": "ipython3",
   "version": "3.10.10"
  },
  "orig_nbformat": 4,
  "vscode": {
   "interpreter": {
    "hash": "f54b67cc2b0b5f35f9caf1b9f04c98fdda10ba61be4ae2a9f95103155e744fae"
   }
  }
 },
 "nbformat": 4,
 "nbformat_minor": 2
}
