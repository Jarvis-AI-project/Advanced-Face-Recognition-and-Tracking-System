{
 "cells": [
  {
   "cell_type": "code",
   "execution_count": 1,
   "metadata": {},
   "outputs": [],
   "source": [
    "import mysql.connector\n",
    "import cv2\n",
    "import os\n",
    "import numpy as np"
   ]
  },
  {
   "attachments": {},
   "cell_type": "markdown",
   "metadata": {},
   "source": [
    "## NEGATIVE FACES - VGGFACE2 DATASET"
   ]
  },
  {
   "cell_type": "code",
   "execution_count": 2,
   "metadata": {},
   "outputs": [],
   "source": [
    "# Connect to MySQL\n",
    "database = mysql.connector.connect(\n",
    "    user='root', password='jarvis@admin', host='192.168.1.97', port='3306')\n",
    "cursor = database.cursor()\n"
   ]
  },
  {
   "cell_type": "code",
   "execution_count": 3,
   "metadata": {},
   "outputs": [
    {
     "name": "stdout",
     "output_type": "stream",
     "text": [
      "Directory already exists\n"
     ]
    }
   ],
   "source": [
    "cursor.execute('USE VGG_Face2')\n",
    "images_loc = '/coding-drive/DATASETS/negative-faces-raw/VGG-Face2/data/test/'\n",
    "save_loc = '/coding-drive/DATASETS/face-recognition-data/test/Unknown/'\n",
    "\n",
    "if os.path.exists(save_loc):\n",
    "    print('Directory already exists')\n",
    "else:\n",
    "    os.mkdir(save_loc)\n",
    "    print('Creating directory')"
   ]
  },
  {
   "cell_type": "code",
   "execution_count": 4,
   "metadata": {},
   "outputs": [
    {
     "name": "stdout",
     "output_type": "stream",
     "text": [
      "Completed 500/500 folders\r"
     ]
    }
   ],
   "source": [
    "count = 0\n",
    "total_folders = len(os.listdir(images_loc))\n",
    "# List all folders in images_loc\n",
    "for folder in os.listdir(images_loc):\n",
    "    # List all images in each folder\n",
    "    for img_path in os.listdir(images_loc + folder):\n",
    "        # check if image is already saved\n",
    "        if os.path.exists(f'{save_loc}{folder}-{img_path}'):\n",
    "            continue\n",
    "        # Read image\n",
    "        img = cv2.imread(os.path.join(images_loc, folder, img_path))\n",
    "        # Get face coordinates\n",
    "        cursor.execute(\n",
    "            'SELECT X, Y, W, H FROM VGG_Face2_TEST WHERE PATH = %s', (os.path.join(folder, img_path.split('.')[0]),))\n",
    "        X, Y, W, H = cursor.fetchone()\n",
    "        # Crop face\n",
    "        face = img[Y:Y+H, X:X+W]\n",
    "        try:\n",
    "            # Save face\n",
    "            face = cv2.cvtColor(face, cv2.COLOR_BGR2GRAY)\n",
    "            face = cv2.resize(face, (224, 224))\n",
    "            cv2.imwrite(f'{save_loc}{folder}-{img_path}', face)\n",
    "            # print('Saved ' + os.path.join(folder, img_path))\n",
    "        except:\n",
    "            # print('Error saving ' + os.path.join(folder, img_path), end='\\r')\n",
    "            pass\n",
    "    count += 1\n",
    "    print(f'Completed {count}/{total_folders} folders', end='\\r')"
   ]
  },
  {
   "attachments": {},
   "cell_type": "markdown",
   "metadata": {},
   "source": [
    "## POSITIVE FACES"
   ]
  },
  {
   "cell_type": "code",
   "execution_count": null,
   "metadata": {},
   "outputs": [],
   "source": [
    "person_name = input(\"Enter person name: \")"
   ]
  },
  {
   "cell_type": "code",
   "execution_count": null,
   "metadata": {},
   "outputs": [],
   "source": [
    "images_loc = f'/coding-drive/DATASETS/raw-pos-face-data/devasheesh_test/'\n",
    "save_loc = f'/coding-drive/DATASETS/face-recognition-data/test/{person_name}/'\n",
    "\n",
    "if os.path.exists(save_loc):\n",
    "    print('Directory already exists')\n",
    "else:\n",
    "    os.mkdir(save_loc)\n",
    "    print('Creating directory')"
   ]
  },
  {
   "cell_type": "code",
   "execution_count": null,
   "metadata": {},
   "outputs": [],
   "source": [
    "# using the Haar Cascade Classifier\n",
    "def extract_frontal_face_harr(image_ndarray, grayscale=True, size=(150, 150)):\n",
    "    # Load the cascade\n",
    "    face_cascade = cv2.CascadeClassifier(\n",
    "        '../haarcascade_frontalface_default.xml')\n",
    "    # Convert into grayscale\n",
    "    if grayscale:\n",
    "        image_gray = cv2.cvtColor(image_ndarray, cv2.COLOR_BGR2GRAY)\n",
    "    else:\n",
    "        image_gray = image_ndarray\n",
    "    # Detect faces\n",
    "    faces_cord = face_cascade.detectMultiScale(image_gray, 1.3, 5)\n",
    "    # Return the face or None if not found\n",
    "    if len(faces_cord) == 0:\n",
    "        return None\n",
    "    # Extract the face\n",
    "    (x, y, w, h) = faces_cord[0]\n",
    "    # Resize the image to 150x150\n",
    "    image_gray_resized = cv2.resize(image_gray[y:y+w, x:x+h], size)\n",
    "    # Return only the face part of the image\n",
    "    return image_gray_resized\n"
   ]
  },
  {
   "cell_type": "code",
   "execution_count": null,
   "metadata": {},
   "outputs": [],
   "source": [
    "count=0\n",
    "\n",
    "for img_path in os.listdir(images_loc):\n",
    "    img = cv2.imread(os.path.join(images_loc, img_path))\n",
    "    try:\n",
    "        face = extract_frontal_face_harr(image_ndarray=img, grayscale=True, size=(224, 224))\n",
    "        if face is None:\n",
    "            continue\n",
    "        \n",
    "        cv2.imwrite(f'{save_loc}{person_name}_{count}.jpg', face)\n",
    "        # print('Saved ' + os.path.join(images_loc, img_path))\n",
    "        count += 1\n",
    "        print('Saved {} images'.format(count), end='\\r')\n",
    "\n",
    "    except Exception as e:\n",
    "        print('Error saving ' + os.path.join(images_loc, img_path))\n",
    "        print(e)\n",
    "       "
   ]
  }
 ],
 "metadata": {
  "kernelspec": {
   "display_name": "Python 3",
   "language": "python",
   "name": "python3"
  },
  "language_info": {
   "codemirror_mode": {
    "name": "ipython",
    "version": 3
   },
   "file_extension": ".py",
   "mimetype": "text/x-python",
   "name": "python",
   "nbconvert_exporter": "python",
   "pygments_lexer": "ipython3",
   "version": "3.10.6"
  },
  "orig_nbformat": 4,
  "vscode": {
   "interpreter": {
    "hash": "916dbcbb3f70747c44a77c7bcd40155683ae19c65e1c03b4aa3499c5328201f1"
   }
  }
 },
 "nbformat": 4,
 "nbformat_minor": 2
}
